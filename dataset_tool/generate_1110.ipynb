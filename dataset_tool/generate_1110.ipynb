{
 "cells": [
  {
   "cell_type": "code",
   "execution_count": 1,
   "metadata": {},
   "outputs": [],
   "source": [
    "import shutil\n",
    "import sys\n",
    "import os\n",
    "from pathlib import Path\n",
    "import json\n",
    "import re\n",
    "\n",
    "root_path = Path('/home/jianghui/dataset/MovieNet-Subset/')\n",
    "shot_root_path = Path(root_path, 'all/shot/')\n",
    "scene_root_path = Path(root_path, 'all/scene/')\n",
    "subtitle_root_path = Path(root_path, 'all/subtitle/')\n",
    "synopsis_root_path = Path(root_path, 'all/synopsis/')\n",
    "cast_root_path = Path(root_path, 'all/cast/')\n",
    "names = locals()\n",
    "\n",
    "tt_list = []\n",
    "with open(Path(root_path, 'movie_id_list'), 'r') as f_tt_list:\n",
    "    for tt_line in f_tt_list:\n",
    "        tt_list.append(tt_line.replace('\\n', ''))\n",
    "\n",
    "def open_json(types:str, tt_id):\n",
    "    names[f'{types}_path'] = Path(names[f'{types}_root_path'], f'{tt_id}.json')\n",
    "    with open(names[f'{types}_path'], 'r') as names[f'f_{types}']:\n",
    "        names[f'{types}_json'] = json.load(names[f'f_{types}'])\n",
    "    return names[f'{types}_json']\n",
    "\n",
    "def save_json(types:str, tt_id):\n",
    "    names[f'{types}_path'] = Path(names[f'{types}_root_path'], f'{tt_id}.json')\n",
    "    with open(names[f'{types}_path'], 'w') as names[f'f_{types}']:\n",
    "        json.dump(names[f'{types}_json'], names[f'f_{types}'], indent=2)"
   ]
  },
  {
   "cell_type": "code",
   "execution_count": null,
   "metadata": {},
   "outputs": [],
   "source": [
    "DEBUG = False\n",
    "\n",
    "for tt_id in (tt_list if not DEBUG else ['tt0047396']):\n",
    "    print(f'processing {tt_id} ...')\n",
    "\n",
    "    shot_json = open_json('shot', tt_id)\n",
    "    scene_json = open_json('scene', tt_id)\n",
    "\n",
    "    for scene_ele in scene_json:\n",
    "        for shot_id in range(scene_ele['shot_id'][0], scene_ele['shot_id'][1] + 1):\n",
    "            shot_json[shot_id]['scene_id'] = scene_ele['scene_id']\n",
    "\n",
    "    save_json('shot', tt_id)"
   ]
  },
  {
   "cell_type": "code",
   "execution_count": null,
   "metadata": {},
   "outputs": [],
   "source": [
    "DEBUG = False\n",
    "\n",
    "for tt_id in (tt_list if not DEBUG else ['tt0047396']):\n",
    "    print(f'processing {tt_id} ...')\n",
    "\n",
    "    shot_json = open_json('shot', tt_id)\n",
    "    synopsis_json = open_json('synopsis', tt_id)\n",
    "\n",
    "    for synopsis_ele in synopsis_json:\n",
    "        scene_start_id = shot_json[synopsis_ele['shot_id'][0]]['scene_id']\n",
    "        scene_end_id = shot_json[synopsis_ele['shot_id'][1]]['scene_id']\n",
    "        synopsis_ele['scene_id']=[scene_start_id, scene_end_id]\n",
    "        \n",
    "    save_json('synopsis', tt_id)"
   ]
  },
  {
   "cell_type": "code",
   "execution_count": null,
   "metadata": {},
   "outputs": [],
   "source": [
    "DEBUG = False\n",
    "\n",
    "for tt_id in (tt_list if not DEBUG else ['tt0047396']):\n",
    "    print(f'processing {tt_id} ...')\n",
    "\n",
    "    synopsis_json = open_json('synopsis', tt_id)\n",
    "    \n",
    "    for synopsis_ele in synopsis_json:\n",
    "        synopsis_ele['sentence'] = synopsis_ele.pop('scentence')\n",
    "\n",
    "    save_json('synopsis', tt_id)"
   ]
  },
  {
   "cell_type": "code",
   "execution_count": null,
   "metadata": {},
   "outputs": [],
   "source": [
    "DEBUG = False\n",
    "\n",
    "for tt_id in (tt_list if not DEBUG else ['tt0047396']):\n",
    "    print(f'processing {tt_id} ...')\n",
    "\n",
    "    subtitle_json = open_json('subtitle', tt_id)\n",
    "    \n",
    "    for subtitle_ele in subtitle_json:\n",
    "        subtitle_ele['sentence'] = subtitle_ele.pop('scentence')\n",
    "\n",
    "    save_json('subtitle', tt_id)"
   ]
  },
  {
   "cell_type": "code",
   "execution_count": 2,
   "metadata": {},
   "outputs": [],
   "source": [
    "import re\n"
   ]
  },
  {
   "cell_type": "code",
   "execution_count": 3,
   "metadata": {},
   "outputs": [
    {
     "data": {
      "text/plain": [
       "('0003', '0')"
      ]
     },
     "execution_count": 3,
     "metadata": {},
     "output_type": "execute_result"
    }
   ],
   "source": [
    "prog_shot = re.compile('(?<=shot_)\\d+(?=_img_)')\n",
    "prog_img = re.compile('(?<=img_)\\d+(?=.jpg)')\n",
    "string = 'shot_0003_img_0.jpg'\n",
    "prog_shot.search(string).group(0), prog_img.search(string).group(0)"
   ]
  },
  {
   "cell_type": "code",
   "execution_count": 4,
   "metadata": {},
   "outputs": [],
   "source": [
    "movienet_path = Path('/home/jianghui/dataset/MovieNet/')\n",
    "movienet_img_path = Path(movienet_path, \"movie1K.keyframes.240p.v1/240P/\")\n",
    "\n"
   ]
  },
  {
   "cell_type": "code",
   "execution_count": null,
   "metadata": {},
   "outputs": [],
   "source": [
    "for tt_id in tt_list:\n",
    "    src_dir = Path(movienet_img_path, tt_id)\n",
    "    dst_dir = Path(root_path, 'all/img/', tt_id)\n",
    "\n",
    "    Path.mkdir(dst_dir, exist_ok=True)\n",
    "\n",
    "    for src_file in src_dir.iterdir():\n",
    "        shot_id_match = prog_shot.search(src_file.name)\n",
    "        img_id_match = prog_img.search(src_file.name)\n",
    "\n",
    "        if shot_id_match != None:\n",
    "            shot_id = int(shot_id_match.group(0))\n",
    "            img_id = int(img_id_match.group(0))\n",
    "\n",
    "            dst_file = Path(dst_dir, f'{shot_id}_{img_id}.jpg')\n",
    "\n",
    "            shutil.copyfile(src_file, dst_file)"
   ]
  },
  {
   "cell_type": "code",
   "execution_count": null,
   "metadata": {},
   "outputs": [],
   "source": []
  }
 ],
 "metadata": {
  "kernelspec": {
   "display_name": "Python 3.8.10 64-bit",
   "language": "python",
   "name": "python3"
  },
  "language_info": {
   "codemirror_mode": {
    "name": "ipython",
    "version": 3
   },
   "file_extension": ".py",
   "mimetype": "text/x-python",
   "name": "python",
   "nbconvert_exporter": "python",
   "pygments_lexer": "ipython3",
   "version": "3.8.10"
  },
  "orig_nbformat": 4,
  "vscode": {
   "interpreter": {
    "hash": "31f2aee4e71d21fbe5cf8b01ff0e069b9275f58929596ceb00d14d90e3e16cd6"
   }
  }
 },
 "nbformat": 4,
 "nbformat_minor": 2
}
