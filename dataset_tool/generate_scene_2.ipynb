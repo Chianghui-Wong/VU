{
 "cells": [
  {
   "cell_type": "code",
   "execution_count": 1,
   "metadata": {},
   "outputs": [],
   "source": [
    "import shutil\n",
    "import sys\n",
    "import os\n",
    "from pathlib import Path\n",
    "import json\n",
    "import re"
   ]
  },
  {
   "cell_type": "code",
   "execution_count": 2,
   "metadata": {},
   "outputs": [],
   "source": [
    "root_path = Path('/home/jianghui/dataset/MovieNet-Subset/')\n",
    "\n",
    "tt_list = []\n",
    "with open(Path(root_path, 'movie_id_list'), 'r') as f_tt_list:\n",
    "    for tt_line in f_tt_list:\n",
    "        tt_list.append(tt_line.replace('\\n', ''))"
   ]
  },
  {
   "cell_type": "code",
   "execution_count": null,
   "metadata": {},
   "outputs": [],
   "source": [
    "for tt_id in ['tt0448157']:#tt_list:#['tt0448157']:#\n",
    "    # read scene.json\n",
    "    scene_file = Path(root_path, 'all/scene/', f'{tt_id}.json')\n",
    "    with open(scene_file, 'r') as f_json:\n",
    "        scene_json = json.load(f_json)\n",
    "\n",
    "    # read shot.json\n",
    "    shot_file = Path(root_path, 'all/shot/', f'{tt_id}.json')\n",
    "    with open(shot_file, 'r') as f_json:\n",
    "        shot_json = json.load(f_json)\n",
    "\n",
    "    # save scene.json\n",
    "    dest_file = Path(root_path, 'all/scene2/', f'{tt_id}.json')\n",
    "    Path.mkdir(dest_file, exist_ok=True)\n",
    "    with open(dest_file, 'w') as f_json:\n",
    "        json.dump(scene_json, f_json, indent=2)"
   ]
  }
 ],
 "metadata": {
  "kernelspec": {
   "display_name": "Python 3.8.13 ('movienet')",
   "language": "python",
   "name": "python3"
  },
  "language_info": {
   "codemirror_mode": {
    "name": "ipython",
    "version": 3
   },
   "file_extension": ".py",
   "mimetype": "text/x-python",
   "name": "python",
   "nbconvert_exporter": "python",
   "pygments_lexer": "ipython3",
   "version": "3.8.13"
  },
  "orig_nbformat": 4,
  "vscode": {
   "interpreter": {
    "hash": "b6e7c01e85f7366896226dec3cdcedca884955a8f6a509dddcc2f4c522e8d250"
   }
  }
 },
 "nbformat": 4,
 "nbformat_minor": 2
}
